{
  "cells": [
    {
      "cell_type": "markdown",
      "metadata": {
        "nteract": {
          "transient": {
            "deleting": false
          }
        }
      },
      "source": "Load sentiment data into the dataframe"
    },
    {
      "cell_type": "code",
      "execution_count": 2,
      "metadata": {
        "collapsed": true,
        "execution": {
          "iopub.execute_input": "2020-08-30T13:38:08.530Z",
          "iopub.status.busy": "2020-08-30T13:38:08.003Z",
          "iopub.status.idle": "2020-08-30T13:38:08.542Z",
          "shell.execute_reply": "2020-08-30T13:38:08.585Z"
        },
        "jupyter": {
          "outputs_hidden": false,
          "source_hidden": false
        },
        "nteract": {
          "transient": {
            "deleting": false
          }
        },
        "outputExpanded": false,
        "trusted": false
      },
      "outputs": [
        {
          "data": {
            "text/html": "\r\n<div>\r\n  <style type='text/css' scoped>\r\n.collapsible {\r\n  background-color: #fff;\r\n  color: #0078D4;\r\n  cursor: pointer;\r\n  padding: 10px;\r\n  border: none;\r\n  text-align: left;\r\n  outline: none;\r\n  font-size: 15px;\r\n  border-radius: 5px;\r\n  margin: 5px\r\n}\r\n\r\n.active, .collapsible:hover {\r\n  color: #4db2ff;\r\n}\r\n\r\n.content {\r\n  margin: 2px;\r\n  padding: 0 18px;\r\n  overflow: hidden;\r\n  background-color: #fff;\r\n  height: 0px;\r\n  -moz-transition: height .2s ease-out;\r\n  -ms-transition: height .2s ease-out;\r\n  -o-transition: height .2s ease-out;\r\n  -webkit-transition: height .2s ease-out;\r\n  transition: height .2s ease-out;\r\n}\r\n</style>\r\n\r\n<button type='button' class='collapsible'>▶ View Query Metrics</button>\r\n  \r\n<div class='content'>\r\n  <div class='measuringWrapper'>\r\n    <span style=\"color:#0078D4\"><b>totalExecutionTimeInMs    </b>:    148.42<br/><b>queryCompileTimeInMs    </b>:    1.2999999999999998<br/><b>queryLogicalPlanBuildTimeInMs    </b>:    0.30999999999999994<br/><b>queryPhysicalPlanBuildTimeInMs    </b>:    0.04<br/><b>queryOptimizationTimeInMs    </b>:    0<br/><b>VMExecutionTimeInMs    </b>:    142.23<br/><b>indexLookupTimeInMs    </b>:    0<br/><b>documentLoadTimeInMs    </b>:    91.57999999999998<br/><b>systemFunctionExecuteTimeInMs    </b>:    0<br/><b>userFunctionExecuteTimeInMs    </b>:    0<br/><b>retrievedDocumentCount    </b>:    11975<br/><b>retrievedDocumentSize    </b>:    8653739<br/><b>outputDocumentCount    </b>:    11975<br/><b>outputDocumentSize    </b>:    1685542<br/><b>writeOutputTimeInMs    </b>:    11.5<br/><b>averageIndexUtilizationRation    </b>:    1<br/></span>\r\n  </div>\r\n</div>\r\n\r\n<script>\r\nvar coll = document.getElementsByClassName('collapsible');\r\nvar i;\r\n\r\nfor (i = 0; i < coll.length; i++) {\r\n  \r\n  coll[i].addEventListener('click', function() {\r\n    this.classList.toggle('active');\r\n    var content = this.nextElementSibling;\r\n    \r\n    if (content.clientHeight != 0) {\r\n      this.textContent = '▶ View Query Metrics';\r\n      content.style.height = '0px';\r\n    }\r\n    else {\r\n      this.textContent = '▼ Hide Query Metrics';\r\n      content.style.height = content.children[0].clientHeight + 'px';\r\n    }\r\n  });\r\n}\r\n</script>\r\n</div>"
          },
          "metadata": {},
          "output_type": "display_data"
        }
      ],
      "source": "%%sql --database TwitterAnalysis --container sentimentAnalysis --output df_sentiment\nSELECT c.sentiment_classification, c.aboutVirus, c.aboutResistance, c.aboutCorona, c.timeStamp FROM c"
    },
    {
      "cell_type": "markdown",
      "metadata": {
        "nteract": {
          "transient": {
            "deleting": false
          }
        }
      },
      "source": "Total sentiment"
    },
    {
      "cell_type": "code",
      "execution_count": 11,
      "metadata": {
        "collapsed": true,
        "execution": {
          "iopub.execute_input": "2020-06-12T14:06:23.032Z",
          "iopub.status.busy": "2020-06-12T14:06:23.024Z",
          "iopub.status.idle": "2020-06-12T14:06:23.110Z",
          "shell.execute_reply": "2020-06-12T14:06:23.161Z"
        },
        "jupyter": {
          "outputs_hidden": false,
          "source_hidden": false
        },
        "nteract": {
          "transient": {
            "deleting": false
          }
        },
        "outputExpanded": false,
        "trusted": false
      },
      "outputs": [
        {
          "name": "stdout",
          "output_type": "stream",
          "text": "sentiment_classification\nneg    4576\npos    7399\ndtype: int64\n"
        },
        {
          "data": {
            "text/plain": "<matplotlib.axes._subplots.AxesSubplot at 0x7f773851ca58>"
          },
          "execution_count": 11,
          "metadata": {},
          "output_type": "execute_result"
        },
        {
          "data": {
            "image/png": "[encoded data removed]",
            "text/plain": "<Figure size 432x288 with 1 Axes>"
          },
          "metadata": {},
          "output_type": "display_data"
        }
      ],
      "source": "df_result = df_sentiment.groupby(\"sentiment_classification\").size()\nprint(df_result.head())\ndf_result.plot.pie(autopct='%1.1f%%', title='Total Sentiment')"
    },
    {
      "cell_type": "markdown",
      "metadata": {
        "nteract": {
          "transient": {
            "deleting": false
          }
        }
      },
      "source": "No Keyword Sentiment"
    },
    {
      "cell_type": "code",
      "execution_count": 6,
      "metadata": {
        "collapsed": true,
        "execution": {
          "iopub.execute_input": "2020-06-13T09:44:32.065Z",
          "iopub.status.busy": "2020-06-13T09:44:32.058Z",
          "iopub.status.idle": "2020-06-13T09:44:32.299Z",
          "shell.execute_reply": "2020-06-13T09:44:32.356Z"
        },
        "jupyter": {
          "outputs_hidden": false,
          "source_hidden": false
        },
        "nteract": {
          "transient": {
            "deleting": false
          }
        },
        "outputExpanded": false,
        "trusted": false
      },
      "outputs": [
        {
          "name": "stdout",
          "output_type": "stream",
          "text": "sentiment_classification\nneg    4171\npos    6295\ndtype: int64\n"
        },
        {
          "data": {
            "text/plain": "<matplotlib.axes._subplots.AxesSubplot at 0x7f791e79d828>"
          },
          "execution_count": 6,
          "metadata": {},
          "output_type": "execute_result"
        },
        {
          "data": {
            "image/png": "[encoded data removed]",
            "text/plain": "<Figure size 432x288 with 1 Axes>"
          },
          "metadata": {},
          "output_type": "display_data"
        }
      ],
      "source": "df_result = df_sentiment.loc[(df_sentiment.aboutCorona == False) & (df_sentiment.aboutVirus == False) & (df_sentiment.aboutResistance == False)].groupby(\"sentiment_classification\").size()\nprint(df_result.head())\ndf_result.plot.pie(autopct='%1.1f%%', title='Total Sentiment')"
    },
    {
      "cell_type": "markdown",
      "metadata": {
        "nteract": {
          "transient": {
            "deleting": false
          }
        }
      },
      "source": "Virus sentiment"
    },
    {
      "cell_type": "code",
      "execution_count": 10,
      "metadata": {
        "collapsed": true,
        "execution": {
          "iopub.execute_input": "2020-06-12T14:06:11.131Z",
          "iopub.status.busy": "2020-06-12T14:06:11.116Z",
          "iopub.status.idle": "2020-06-12T14:06:11.224Z",
          "shell.execute_reply": "2020-06-12T14:06:11.278Z"
        },
        "jupyter": {
          "outputs_hidden": false,
          "source_hidden": false
        },
        "nteract": {
          "transient": {
            "deleting": false
          }
        },
        "outputExpanded": false,
        "trusted": false
      },
      "outputs": [
        {
          "name": "stdout",
          "output_type": "stream",
          "text": "sentiment_classification\nneg    305\npos    671\ndtype: int64\n"
        },
        {
          "data": {
            "text/plain": "<matplotlib.axes._subplots.AxesSubplot at 0x7f77385cd978>"
          },
          "execution_count": 10,
          "metadata": {},
          "output_type": "execute_result"
        },
        {
          "data": {
            "image/png": "[encoded data removed]",
            "text/plain": "<Figure size 432x288 with 1 Axes>"
          },
          "metadata": {},
          "output_type": "display_data"
        }
      ],
      "source": "df_result = df_sentiment.loc[(df_sentiment.aboutVirus == True)].groupby(\"sentiment_classification\").size()\nprint(df_result.head())\ndf_result.plot.pie(autopct='%1.1f%%', title='Total Sentiment')"
    },
    {
      "cell_type": "markdown",
      "metadata": {
        "nteract": {
          "transient": {
            "deleting": false
          }
        }
      },
      "source": "Resistance sentiment"
    },
    {
      "cell_type": "code",
      "execution_count": 9,
      "metadata": {
        "collapsed": true,
        "execution": {
          "iopub.execute_input": "2020-06-12T14:05:59.141Z",
          "iopub.status.busy": "2020-06-12T14:05:59.122Z",
          "iopub.status.idle": "2020-06-12T14:05:59.256Z",
          "shell.execute_reply": "2020-06-12T14:05:59.324Z"
        },
        "jupyter": {
          "outputs_hidden": false,
          "source_hidden": false
        },
        "nteract": {
          "transient": {
            "deleting": false
          }
        },
        "outputExpanded": false,
        "trusted": false
      },
      "outputs": [
        {
          "name": "stdout",
          "output_type": "stream",
          "text": "sentiment_classification\nneg    101\npos    443\ndtype: int64\n"
        },
        {
          "data": {
            "text/plain": "<matplotlib.axes._subplots.AxesSubplot at 0x7f7738c616d8>"
          },
          "execution_count": 9,
          "metadata": {},
          "output_type": "execute_result"
        },
        {
          "data": {
            "image/png": "[encoded data removed]",
            "text/plain": "<Figure size 432x288 with 1 Axes>"
          },
          "metadata": {},
          "output_type": "display_data"
        }
      ],
      "source": "df_result = df_sentiment.loc[(df_sentiment.aboutResistance == True)].groupby(\"sentiment_classification\").size()\nprint(df_result.head())\ndf_result.plot.pie(autopct='%1.1f%%', title='Total Sentiment')"
    },
    {
      "cell_type": "markdown",
      "metadata": {
        "nteract": {
          "transient": {
            "deleting": false
          }
        }
      },
      "source": "Corona sentiment"
    },
    {
      "cell_type": "code",
      "execution_count": 8,
      "metadata": {
        "collapsed": true,
        "execution": {
          "iopub.execute_input": "2020-06-12T14:04:30.162Z",
          "iopub.status.busy": "2020-06-12T14:04:30.136Z",
          "iopub.status.idle": "2020-06-12T14:04:30.380Z",
          "shell.execute_reply": "2020-06-12T14:04:30.428Z"
        },
        "jupyter": {
          "outputs_hidden": false,
          "source_hidden": false
        },
        "nteract": {
          "transient": {
            "deleting": false
          }
        },
        "outputExpanded": false,
        "trusted": false
      },
      "outputs": [
        {
          "name": "stdout",
          "output_type": "stream",
          "text": "sentiment_classification\nneg    161\npos    471\ndtype: int64\n"
        },
        {
          "data": {
            "text/plain": "<matplotlib.axes._subplots.AxesSubplot at 0x7f773af902e8>"
          },
          "execution_count": 8,
          "metadata": {},
          "output_type": "execute_result"
        },
        {
          "data": {
            "image/png": "[encoded data removed]",
            "text/plain": "<Figure size 432x288 with 1 Axes>"
          },
          "metadata": {},
          "output_type": "display_data"
        }
      ],
      "source": "df_result = df_sentiment.loc[(df_sentiment.aboutCorona == True)].groupby(\"sentiment_classification\").size()\nprint(df_result.head())\ndf_result.plot.pie(autopct='%1.1f%%', title='Total Sentiment')"
    },
    {
      "cell_type": "markdown",
      "metadata": {
        "nteract": {
          "transient": {
            "deleting": false
          }
        }
      },
      "source": "Total number of tweets and their sentiment per day."
    },
    {
      "cell_type": "code",
      "execution_count": 3,
      "metadata": {
        "collapsed": true,
        "execution": {
          "iopub.execute_input": "2020-08-30T13:38:22.342Z",
          "iopub.status.busy": "2020-08-30T13:38:22.338Z",
          "iopub.status.idle": "2020-08-30T13:38:24.106Z",
          "shell.execute_reply": "2020-08-30T13:38:24.189Z"
        },
        "jupyter": {
          "outputs_hidden": false,
          "source_hidden": false
        },
        "nteract": {
          "transient": {
            "deleting": false
          }
        },
        "outputExpanded": false,
        "trusted": false
      },
      "outputs": [
        {
          "data": {
            "text/plain": "<matplotlib.axes._subplots.AxesSubplot at 0x7f3c16545400>"
          },
          "execution_count": 3,
          "metadata": {},
          "output_type": "execute_result"
        },
        {
          "data": {
            "image/png": "[encoded data removed]",
            "text/plain": "<Figure size 432x288 with 1 Axes>"
          },
          "metadata": {
            "needs_background": "light"
          },
          "output_type": "display_data"
        }
      ],
      "source": "df_sentiment[\"date\"] = df_sentiment[\"timeStamp\"].apply(pd.to_datetime).dt.date\ndf_sentiment['tweets'] = None\ndf = df_sentiment.groupby(['date','sentiment_classification'])['tweets'].size().reset_index()\ndf_result = pd.pivot_table(df, values = 'tweets', index='date', columns='sentiment_classification').reset_index()\ndf_result.plot.bar(x='date')"
    },
    {
      "cell_type": "markdown",
      "metadata": {
        "nteract": {
          "transient": {
            "deleting": false
          }
        }
      },
      "source": "Total number of virus-tweets and their sentiment per day."
    },
    {
      "cell_type": "code",
      "execution_count": null,
      "metadata": {
        "collapsed": true,
        "jupyter": {
          "outputs_hidden": false,
          "source_hidden": false
        },
        "nteract": {
          "transient": {
            "deleting": false
          }
        },
        "outputExpanded": false,
        "trusted": false
      },
      "outputs": [],
      "source": "df_sentiment_virus = df_sentiment.loc[(df_sentiment.aboutVirus == True)]\ndf_sentiment_virus[\"date\"] = df_sentiment_virus[\"timeStamp\"].apply(pd.to_datetime).dt.date\ndf_sentiment_virus['tweets'] = None\ndf = df_sentiment_virus.groupby(['date','sentiment_classification'])['tweets'].size().reset_index()\ndf_result = pd.pivot_table(df, values = 'tweets', index='date', columns='sentiment_classification').reset_index()\ndf_result.plot.bar(x='date')"
    },
    {
      "cell_type": "markdown",
      "metadata": {
        "nteract": {
          "transient": {
            "deleting": false
          }
        }
      },
      "source": "Total number of resistance-tweets and their sentiment per day."
    },
    {
      "cell_type": "code",
      "execution_count": null,
      "metadata": {
        "collapsed": true,
        "execution": {
          "iopub.execute_input": "2020-05-29T11:22:32.785Z",
          "iopub.status.busy": "2020-05-29T11:22:32.778Z",
          "iopub.status.idle": "2020-05-29T11:22:33.007Z",
          "shell.execute_reply": "2020-05-29T11:22:33.090Z"
        },
        "jupyter": {
          "outputs_hidden": false,
          "source_hidden": false
        },
        "nteract": {
          "transient": {
            "deleting": false
          }
        },
        "outputExpanded": false,
        "trusted": false
      },
      "outputs": [],
      "source": "df_sentiment_resistance = df_sentiment.loc[(df_sentiment.aboutResistance == True)]\ndf_sentiment_resistance[\"date\"] = df_sentiment_resistance[\"timeStamp\"].apply(pd.to_datetime).dt.date\ndf_sentiment_resistance['tweets'] = None\ndf = df_sentiment_resistance.groupby(['date','sentiment_classification'])['tweets'].size().reset_index()\ndf_result = pd.pivot_table(df, values = 'tweets', index='date', columns='sentiment_classification').reset_index()\ndf_result.plot.bar(x='date')"
    },
    {
      "cell_type": "markdown",
      "metadata": {
        "nteract": {
          "transient": {
            "deleting": false
          }
        }
      },
      "source": "Total number of corona-tweets and their sentiment per day."
    },
    {
      "cell_type": "code",
      "execution_count": 4,
      "metadata": {
        "collapsed": true,
        "execution": {
          "iopub.execute_input": "2020-08-30T13:38:33.936Z",
          "iopub.status.busy": "2020-08-30T13:38:33.914Z",
          "iopub.status.idle": "2020-08-30T13:38:34.302Z",
          "shell.execute_reply": "2020-08-30T13:38:34.378Z"
        },
        "jupyter": {
          "outputs_hidden": false,
          "source_hidden": false
        },
        "nteract": {
          "transient": {
            "deleting": false
          }
        },
        "outputExpanded": false,
        "trusted": false
      },
      "outputs": [
        {
          "name": "stderr",
          "output_type": "stream",
          "text": "/home/cosmosuser/.local/lib/python3.6/site-packages/ipykernel_launcher.py:2: SettingWithCopyWarning: \nA value is trying to be set on a copy of a slice from a DataFrame.\nTry using .loc[row_indexer,col_indexer] = value instead\n\nSee the caveats in the documentation: https://pandas.pydata.org/pandas-docs/stable/user_guide/indexing.html#returning-a-view-versus-a-copy\n  \n/home/cosmosuser/.local/lib/python3.6/site-packages/ipykernel_launcher.py:3: SettingWithCopyWarning: \nA value is trying to be set on a copy of a slice from a DataFrame.\nTry using .loc[row_indexer,col_indexer] = value instead\n\nSee the caveats in the documentation: https://pandas.pydata.org/pandas-docs/stable/user_guide/indexing.html#returning-a-view-versus-a-copy\n  This is separate from the ipykernel package so we can avoid doing imports until\n"
        },
        {
          "data": {
            "text/plain": "<matplotlib.axes._subplots.AxesSubplot at 0x7f3c0bd570f0>"
          },
          "execution_count": 4,
          "metadata": {},
          "output_type": "execute_result"
        },
        {
          "data": {
            "image/png": "[encoded data removed]",
            "text/plain": "<Figure size 432x288 with 1 Axes>"
          },
          "metadata": {
            "needs_background": "light"
          },
          "output_type": "display_data"
        }
      ],
      "source": "df_sentiment_corona = df_sentiment.loc[(df_sentiment.aboutCorona == True)]\ndf_sentiment_corona[\"date\"] = df_sentiment_corona[\"timeStamp\"].apply(pd.to_datetime).dt.date\ndf_sentiment_corona['tweets'] = None\ndf = df_sentiment_corona.groupby(['date','sentiment_classification'])['tweets'].size().reset_index()\ndf_result = pd.pivot_table(df, values = 'tweets', index='date', columns='sentiment_classification').reset_index()\ndf_result.plot.bar(x='date')"
    }
  ],
  "metadata": {
    "kernelspec": {
      "displayName": "Python 3",
      "language": "python",
      "name": "python3"
    },
    "language_info": {
      "file_extension": "ipynb",
      "mimetype": "application/json",
      "name": "python",
      "version": "3.7"
    },
    "nteract": {
      "version": "dataExplorer 1.0"
    }
  },
  "nbformat": 4,
  "nbformat_minor": 4
}